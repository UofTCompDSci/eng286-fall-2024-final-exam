{
 "cells": [
  {
   "cell_type": "markdown",
   "metadata": {},
   "source": [
    "<div style=\"text-align: center\">\n",
    "\n",
    "## THIS IS NOT THE REAL EXAM.  IT IS A PLACEHOLDER BEFORE THE EXAM STARTS ##\n",
    "\n",
    "**UNIVERSITY OF TORONTO**\n",
    "\n",
    "**Faculty of Arts & Science**\n",
    "\n",
    "**FALL 2024 EXAMINATIONS**\n",
    "\n",
    "**ENG286H1F - Literature and Data**\n",
    "\n",
    "**Duration**: 3 hours\n",
    "\n",
    "**Aids Allowed**: You may access all course resources on JupyterHub, and MarkUs, including Melanie Welsh’s textbook *Introduction to Cultural Analytics & Python*. You are also permitted to consult any printed or handwritten materials that you have personally prepared before the exam. You may not consult any other references.\n",
    "\n",
    "</div>\n",
    "\n",
    "## Exam Reminders\n",
    "\n",
    "- As a student, you help create a fair and inclusive writing environment. If you possess an\n",
    "unauthorized aid during an exam, you may be charged with an academic offence.\n",
    "- Turn off and place all cell phones, smart watches, electronic devices, and unauthorized study materials in your bag under your desk. If it is left in your pocket, it may be an academic offence.\n",
    "- When you are done your exam, download the file and submit it to [MarkUs](https://markus.teach.cs.toronto.edu/markus) under the `final_exam` assignment. We have included submission instructions at the bottom of this notebook (same as past course work). Please ensure that the file is labeled as **final_exam.ipynb**\n",
    "- All answers should be written in the provided cells in this notebook. You will *only* submit this notebook on MarkUs.\n",
    "\n",
    "**Note**: *We encourage you to submit your in-progress version on MarkUs regularly. Youshould also give yourself at least 15 minutes at the end of the exam period to ensure you have downloaded and uploaded your exam file correctly.*\n",
    "\n",
    "## Quick Links\n",
    "\n",
    "- [MarkUs](https://markus.teach.cs.toronto.edu/markus)\n",
    "- [JupyterHub home page](https://jupyter.utoronto.ca)\n",
    "- [Course materials](https://eng286.teach.cs.toronto.edu)\n",
    "- [Melanie Walsh Cultural Analytics](https://melaniewalsh.github.io/Intro-Cultural-Analytics/welcome.html)"
   ]
  }
 ],
 "metadata": {
  "language_info": {
   "name": "python"
  }
 },
 "nbformat": 4,
 "nbformat_minor": 2
}
